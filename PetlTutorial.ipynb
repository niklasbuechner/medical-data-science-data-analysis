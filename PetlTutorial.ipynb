{
  "nbformat": 4,
  "nbformat_minor": 0,
  "metadata": {
    "colab": {
      "name": "PetlTutorial.ipynb",
      "provenance": [],
      "collapsed_sections": [],
      "include_colab_link": true
    },
    "kernelspec": {
      "name": "python3",
      "display_name": "Python 3"
    },
    "language_info": {
      "name": "python"
    }
  },
  "cells": [
    {
      "cell_type": "markdown",
      "metadata": {
        "id": "view-in-github",
        "colab_type": "text"
      },
      "source": [
        "<a href=\"https://colab.research.google.com/github/Fuenfgeld/2022TeamADataEngineeringBC/blob/main/PetlTutorial.ipynb\" target=\"_parent\"><img src=\"https://colab.research.google.com/assets/colab-badge.svg\" alt=\"Open In Colab\"/></a>"
      ]
    },
    {
      "cell_type": "markdown",
      "source": [
        "#Tutorial PETL\n",
        "` petl ` is a general purpose Python package for implementing ETL (Extract, Transform, Load) workflows in Python. In this tutorial you will learn how to use `petl` to extract data from different sources into, so called **tables**. A **table** contains rows and columns which can be transformed based on user given criteria. The transformed **table** can the be loaded into another database for further usage. "
      ],
      "metadata": {
        "id": "_5wBitcHDdM9"
      }
    },
    {
      "cell_type": "markdown",
      "source": [
        "##Table of Contents\n",
        "\n",
        "\n",
        "1.   Creating our first table.\n",
        "2.   Basic transformations.\n",
        "3.   Selecting Rows.\n",
        "5.   Filling Missing Values.\n",
        "6.   Deduplicating Rows.\n",
        "7.   Reshaping tables.\n",
        "8.   Importing and exporting tables."
      ],
      "metadata": {
        "id": "9E2uUAb6J6GG"
      }
    },
    {
      "cell_type": "markdown",
      "source": [
        "##1. Creating our first table\n",
        "\n",
        "We will create our first table from a linked list. Since `petl` is not part of the standard python library we will install it first via pip."
      ],
      "metadata": {
        "id": "N6Arix2_N2mP"
      }
    },
    {
      "cell_type": "code",
      "source": [
        "pip install petl"
      ],
      "metadata": {
        "colab": {
          "base_uri": "https://localhost:8080/"
        },
        "id": "avoK0xnxYtS0",
        "outputId": "68f739eb-ecad-4363-fe26-e00289efd9de"
      },
      "execution_count": null,
      "outputs": [
        {
          "output_type": "stream",
          "name": "stdout",
          "text": [
            "Collecting petl\n",
            "  Downloading petl-1.7.8.tar.gz (401 kB)\n",
            "\u001b[?25l\r\u001b[K     |▉                               | 10 kB 19.0 MB/s eta 0:00:01\r\u001b[K     |█▋                              | 20 kB 16.6 MB/s eta 0:00:01\r\u001b[K     |██▌                             | 30 kB 10.9 MB/s eta 0:00:01\r\u001b[K     |███▎                            | 40 kB 9.0 MB/s eta 0:00:01\r\u001b[K     |████                            | 51 kB 4.7 MB/s eta 0:00:01\r\u001b[K     |█████                           | 61 kB 5.5 MB/s eta 0:00:01\r\u001b[K     |█████▊                          | 71 kB 5.6 MB/s eta 0:00:01\r\u001b[K     |██████▌                         | 81 kB 5.3 MB/s eta 0:00:01\r\u001b[K     |███████▍                        | 92 kB 5.8 MB/s eta 0:00:01\r\u001b[K     |████████▏                       | 102 kB 5.2 MB/s eta 0:00:01\r\u001b[K     |█████████                       | 112 kB 5.2 MB/s eta 0:00:01\r\u001b[K     |█████████▉                      | 122 kB 5.2 MB/s eta 0:00:01\r\u001b[K     |██████████▋                     | 133 kB 5.2 MB/s eta 0:00:01\r\u001b[K     |███████████▍                    | 143 kB 5.2 MB/s eta 0:00:01\r\u001b[K     |████████████▎                   | 153 kB 5.2 MB/s eta 0:00:01\r\u001b[K     |█████████████                   | 163 kB 5.2 MB/s eta 0:00:01\r\u001b[K     |█████████████▉                  | 174 kB 5.2 MB/s eta 0:00:01\r\u001b[K     |██████████████▊                 | 184 kB 5.2 MB/s eta 0:00:01\r\u001b[K     |███████████████▌                | 194 kB 5.2 MB/s eta 0:00:01\r\u001b[K     |████████████████▎               | 204 kB 5.2 MB/s eta 0:00:01\r\u001b[K     |█████████████████▏              | 215 kB 5.2 MB/s eta 0:00:01\r\u001b[K     |██████████████████              | 225 kB 5.2 MB/s eta 0:00:01\r\u001b[K     |██████████████████▊             | 235 kB 5.2 MB/s eta 0:00:01\r\u001b[K     |███████████████████▋            | 245 kB 5.2 MB/s eta 0:00:01\r\u001b[K     |████████████████████▍           | 256 kB 5.2 MB/s eta 0:00:01\r\u001b[K     |█████████████████████▏          | 266 kB 5.2 MB/s eta 0:00:01\r\u001b[K     |██████████████████████          | 276 kB 5.2 MB/s eta 0:00:01\r\u001b[K     |██████████████████████▉         | 286 kB 5.2 MB/s eta 0:00:01\r\u001b[K     |███████████████████████▋        | 296 kB 5.2 MB/s eta 0:00:01\r\u001b[K     |████████████████████████▌       | 307 kB 5.2 MB/s eta 0:00:01\r\u001b[K     |█████████████████████████▎      | 317 kB 5.2 MB/s eta 0:00:01\r\u001b[K     |██████████████████████████      | 327 kB 5.2 MB/s eta 0:00:01\r\u001b[K     |███████████████████████████     | 337 kB 5.2 MB/s eta 0:00:01\r\u001b[K     |███████████████████████████▊    | 348 kB 5.2 MB/s eta 0:00:01\r\u001b[K     |████████████████████████████▌   | 358 kB 5.2 MB/s eta 0:00:01\r\u001b[K     |█████████████████████████████▍  | 368 kB 5.2 MB/s eta 0:00:01\r\u001b[K     |██████████████████████████████▏ | 378 kB 5.2 MB/s eta 0:00:01\r\u001b[K     |███████████████████████████████ | 389 kB 5.2 MB/s eta 0:00:01\r\u001b[K     |███████████████████████████████▉| 399 kB 5.2 MB/s eta 0:00:01\r\u001b[K     |████████████████████████████████| 401 kB 5.2 MB/s \n",
            "\u001b[?25h  Installing build dependencies ... \u001b[?25l\u001b[?25hdone\n",
            "  Getting requirements to build wheel ... \u001b[?25l\u001b[?25hdone\n",
            "    Preparing wheel metadata ... \u001b[?25l\u001b[?25hdone\n",
            "Building wheels for collected packages: petl\n",
            "  Building wheel for petl (PEP 517) ... \u001b[?25l\u001b[?25hdone\n",
            "  Created wheel for petl: filename=petl-1.7.8-py3-none-any.whl size=219365 sha256=c890049ec39683d46a1034f5dc016ba9fd1060ec046548a4f7b202a7ef301235\n",
            "  Stored in directory: /root/.cache/pip/wheels/fe/3d/5c/e10ec10f8988404563318132cbd9d37f5798198dfbe4d5f12f\n",
            "Successfully built petl\n",
            "Installing collected packages: petl\n",
            "Successfully installed petl-1.7.8\n"
          ]
        }
      ]
    },
    {
      "cell_type": "code",
      "source": [
        "import petl as etl\n",
        "etl.__version__"
      ],
      "metadata": {
        "colab": {
          "base_uri": "https://localhost:8080/",
          "height": 35
        },
        "id": "E4PoIkr_Yx6e",
        "outputId": "1a3d9ce2-f2c9-4526-c0bf-039e23c8d30a"
      },
      "execution_count": null,
      "outputs": [
        {
          "output_type": "execute_result",
          "data": {
            "text/plain": [
              "'1.7.8'"
            ],
            "application/vnd.google.colaboratory.intrinsic+json": {
              "type": "string"
            }
          },
          "metadata": {},
          "execution_count": 2
        }
      ]
    },
    {
      "cell_type": "markdown",
      "source": [
        "Now we can run the code below to create a toy example. For the table to be transformed into an object recognized by `petl`, we have to apply the `.convert()` method to it."
      ],
      "metadata": {
        "id": "i-6dtrX-w-Ge"
      }
    },
    {
      "cell_type": "code",
      "source": [
        "table1 = [[\"foo\",\"bar\",\"baz\"],\n",
        "          [\"a\"  ,  1  ,  3.4],\n",
        "          [\"b\"  ,  2  ,  7.4],\n",
        "          [\"c\"  ,  6  ,  2.2],\n",
        "          [\"d\"  ,  9  ,  8.1]]\n",
        "\n",
        "print(f\"Type before transformation: {type(table1)}\\n\")\n",
        "table1 = etl.convert(table1)\n",
        "print(f\"Type after transformation: {type(table1)}\\n\")\n",
        "\n",
        "# .look() method enables us to visualize the table nicely.\n",
        "table1.look()"
      ],
      "metadata": {
        "id": "wcTr5ELnYG54",
        "outputId": "8772628e-ddb6-4b85-e8c6-7dde07a8a8b7",
        "colab": {
          "base_uri": "https://localhost:8080/"
        }
      },
      "execution_count": null,
      "outputs": [
        {
          "output_type": "stream",
          "name": "stdout",
          "text": [
            "Type before transformation: <class 'list'>\n",
            "\n",
            "Type after transformation: <class 'petl.transform.conversions.FieldConvertView'>\n",
            "\n"
          ]
        },
        {
          "output_type": "execute_result",
          "data": {
            "text/plain": [
              "+-----+-----+-----+\n",
              "| foo | bar | baz |\n",
              "+=====+=====+=====+\n",
              "| 'a' |   1 | 3.4 |\n",
              "+-----+-----+-----+\n",
              "| 'b' |   2 | 7.4 |\n",
              "+-----+-----+-----+\n",
              "| 'c' |   6 | 2.2 |\n",
              "+-----+-----+-----+\n",
              "| 'd' |   9 | 8.1 |\n",
              "+-----+-----+-----+"
            ]
          },
          "metadata": {},
          "execution_count": 120
        }
      ]
    },
    {
      "cell_type": "markdown",
      "source": [
        "Now that you know how to create a table in `petl` we move on to the second chapter where we are going to see how to add and remove parts it."
      ],
      "metadata": {
        "id": "Iy1BAyzuWmti"
      }
    },
    {
      "cell_type": "markdown",
      "source": [
        "##1.2 Importing json and csv files and converting them to tables\n",
        "\n",
        "We can also import json-files with the command `etl.fromjson` or csv-files with `etl.fromcsv` as shown below."
      ],
      "metadata": {
        "id": "7-WYgHjnG6D4"
      }
    },
    {
      "cell_type": "code",
      "source": [
        "# mount google-drive where the json and csv files are located\n",
        "from google.colab import drive\n",
        "drive.mount('/content/drive')\n",
        "\n",
        "# convert json file to petl-table\n",
        "table1 = etl.fromjson(\"/content/drive/MyDrive/Daten/iris.json\")\n",
        "print(table1)\n",
        "\n",
        "table2 = etl.fromcsv(\"/content/drive/MyDrive/Daten/iris.csv\")\n",
        "print(table2)\n"
      ],
      "metadata": {
        "id": "QQkzAJe-G82x",
        "colab": {
          "base_uri": "https://localhost:8080/"
        },
        "outputId": "e4e46b4a-31f2-4dbe-cb45-3da0da2e967c"
      },
      "execution_count": null,
      "outputs": [
        {
          "output_type": "stream",
          "name": "stdout",
          "text": [
            "Drive already mounted at /content/drive; to attempt to forcibly remount, call drive.mount(\"/content/drive\", force_remount=True).\n",
            "+-------------+------------+-------------+------------+---------+\n",
            "| sepalLength | sepalWidth | petalLength | petalWidth | species |\n",
            "+=============+============+=============+============+=========+\n",
            "|         5.1 |        3.5 |         1.4 |        0.2 | setosa  |\n",
            "+-------------+------------+-------------+------------+---------+\n",
            "|         4.9 |        3.0 |         1.4 |        0.2 | setosa  |\n",
            "+-------------+------------+-------------+------------+---------+\n",
            "|         4.7 |        3.2 |         1.3 |        0.2 | setosa  |\n",
            "+-------------+------------+-------------+------------+---------+\n",
            "|         4.6 |        3.1 |         1.5 |        0.2 | setosa  |\n",
            "+-------------+------------+-------------+------------+---------+\n",
            "|         5.0 |        3.6 |         1.4 |        0.2 | setosa  |\n",
            "+-------------+------------+-------------+------------+---------+\n",
            "...\n",
            "\n",
            "+--------------+-------------+--------------+-------------+---------+\n",
            "| sepal.length | sepal.width | petal.length | petal.width | variety |\n",
            "+==============+=============+==============+=============+=========+\n",
            "| 5.1          | 3.5         | 1.4          | .2          | Setosa  |\n",
            "+--------------+-------------+--------------+-------------+---------+\n",
            "| 4.9          | 3           | 1.4          | .2          | Setosa  |\n",
            "+--------------+-------------+--------------+-------------+---------+\n",
            "| 4.7          | 3.2         | 1.3          | .2          | Setosa  |\n",
            "+--------------+-------------+--------------+-------------+---------+\n",
            "| 4.6          | 3.1         | 1.5          | .2          | Setosa  |\n",
            "+--------------+-------------+--------------+-------------+---------+\n",
            "| 5            | 3.6         | 1.4          | .2          | Setosa  |\n",
            "+--------------+-------------+--------------+-------------+---------+\n",
            "...\n",
            "\n"
          ]
        }
      ]
    },
    {
      "cell_type": "markdown",
      "source": [
        "##2. Basic transformations\n",
        "Some of the most basic functionalities of tables are that we can access specific chunks of the tables rows and columns as well as new rows and columns."
      ],
      "metadata": {
        "id": "kGvXQPqvRLHd"
      }
    },
    {
      "cell_type": "markdown",
      "source": [
        "If we want to access only part of the rows we can use `.rowslice()` to choose which rows to keep."
      ],
      "metadata": {
        "id": "fxJsGtARP19Q"
      }
    },
    {
      "cell_type": "code",
      "source": [
        "etl.rowslice(table1, 1, 4).look()"
      ],
      "metadata": {
        "id": "7CvoFZxhYmCI",
        "outputId": "36029f62-cf8b-439d-f672-306f9c6b4df6",
        "colab": {
          "base_uri": "https://localhost:8080/"
        }
      },
      "execution_count": null,
      "outputs": [
        {
          "output_type": "execute_result",
          "data": {
            "text/plain": [
              "+-----+-----+-----+\n",
              "| foo | bar | baz |\n",
              "+=====+=====+=====+\n",
              "| 'b' |   2 | 7.4 |\n",
              "+-----+-----+-----+\n",
              "| 'c' |   6 | 2.2 |\n",
              "+-----+-----+-----+\n",
              "| 'd' |   9 | 8.1 |\n",
              "+-----+-----+-----+"
            ]
          },
          "metadata": {},
          "execution_count": 102
        }
      ]
    },
    {
      "cell_type": "markdown",
      "source": [
        "If we want to access only certain columns we can use `.cut()`."
      ],
      "metadata": {
        "id": "cTkD1djwQUT2"
      }
    },
    {
      "cell_type": "code",
      "source": [
        "etl.cut(table1,'foo','baz').look()"
      ],
      "metadata": {
        "colab": {
          "base_uri": "https://localhost:8080/"
        },
        "id": "TZSqOKIXZpAe",
        "outputId": "95577850-824c-4b3c-b33b-9c2b2d9d581d"
      },
      "execution_count": null,
      "outputs": [
        {
          "output_type": "execute_result",
          "data": {
            "text/plain": [
              "+-----+-----+\n",
              "| foo | baz |\n",
              "+=====+=====+\n",
              "| 'a' | 3.4 |\n",
              "+-----+-----+\n",
              "| 'b' | 7.4 |\n",
              "+-----+-----+\n",
              "| 'c' | 2.2 |\n",
              "+-----+-----+\n",
              "| 'd' | 8.1 |\n",
              "+-----+-----+"
            ]
          },
          "metadata": {},
          "execution_count": 103
        }
      ]
    },
    {
      "cell_type": "markdown",
      "source": [
        "Suppose we have similar datasets from multiple sources. Wouldn't it be practical to combine them into one table ? `petl` provides such a funcionality via the `.cat()` method which stands for concatenation."
      ],
      "metadata": {
        "id": "aE-KkIKGR6Xx"
      }
    },
    {
      "cell_type": "code",
      "source": [
        "table2 = [[\"foo\",\"bar\",\"baz\"],\n",
        "          [\"e\"  ,  2  ,  5.5],\n",
        "          [\"f\"  ,  7  ,  8.4]]\n",
        "\n",
        "table3 = etl.cat(table1, table2)\n",
        "table3.look()"
      ],
      "metadata": {
        "id": "Y6fTncLt55Q6",
        "outputId": "bd92fa63-e064-4ac6-9050-d6d7171f3cfa",
        "colab": {
          "base_uri": "https://localhost:8080/"
        }
      },
      "execution_count": null,
      "outputs": [
        {
          "output_type": "execute_result",
          "data": {
            "text/plain": [
              "+-----+-----+-----+\n",
              "| foo | bar | baz |\n",
              "+=====+=====+=====+\n",
              "| 'a' |   1 | 3.4 |\n",
              "+-----+-----+-----+\n",
              "| 'b' |   2 | 7.4 |\n",
              "+-----+-----+-----+\n",
              "| 'c' |   6 | 2.2 |\n",
              "+-----+-----+-----+\n",
              "| 'd' |   9 | 8.1 |\n",
              "+-----+-----+-----+\n",
              "| 'e' |   2 | 5.5 |\n",
              "+-----+-----+-----+\n",
              "..."
            ]
          },
          "metadata": {},
          "execution_count": 104
        }
      ]
    },
    {
      "cell_type": "markdown",
      "source": [
        "In case we want to add columns we can do so via the `.addcolumn()` method. Note that we have to specify the name of the column `\"zoo\"` specifically from the values."
      ],
      "metadata": {
        "id": "UqTgVDegSzvl"
      }
    },
    {
      "cell_type": "code",
      "source": [
        "table1 = etl.addcolumn(table1,\"zoo\", [1,2,3,4])\n",
        "table1.look()"
      ],
      "metadata": {
        "id": "jw_cHbtv6Pu4",
        "outputId": "406c8035-b797-4315-8e3c-9e799497fda2",
        "colab": {
          "base_uri": "https://localhost:8080/"
        }
      },
      "execution_count": null,
      "outputs": [
        {
          "output_type": "execute_result",
          "data": {
            "text/plain": [
              "+-----+-----+-----+-----+\n",
              "| foo | bar | baz | zoo |\n",
              "+=====+=====+=====+=====+\n",
              "| 'a' |   1 | 3.4 |   1 |\n",
              "+-----+-----+-----+-----+\n",
              "| 'b' |   2 | 7.4 |   2 |\n",
              "+-----+-----+-----+-----+\n",
              "| 'c' |   6 | 2.2 |   3 |\n",
              "+-----+-----+-----+-----+\n",
              "| 'd' |   9 | 8.1 |   4 |\n",
              "+-----+-----+-----+-----+"
            ]
          },
          "metadata": {},
          "execution_count": 112
        }
      ]
    },
    {
      "cell_type": "markdown",
      "source": [
        "In order to perform the opposite operation, i.e removing a column `.cutout()` can be used. In contrast to `.cut()`, this method removes the specified column completely instead of returning it as slice ot the table."
      ],
      "metadata": {
        "id": "MyHk8CvETsN6"
      }
    },
    {
      "cell_type": "code",
      "source": [
        "table1 = etl.cutout(table1,\"zoo\")\n",
        "table1.look()"
      ],
      "metadata": {
        "id": "CJwe8J_TBxL0",
        "outputId": "8ad592aa-d073-46c9-efa2-365fc8f37574",
        "colab": {
          "base_uri": "https://localhost:8080/"
        }
      },
      "execution_count": null,
      "outputs": [
        {
          "output_type": "execute_result",
          "data": {
            "text/plain": [
              "+-----+-----+-----+\n",
              "| foo | bar | baz |\n",
              "+=====+=====+=====+\n",
              "| 'a' |   1 | 3.4 |\n",
              "+-----+-----+-----+\n",
              "| 'b' |   2 | 7.4 |\n",
              "+-----+-----+-----+\n",
              "| 'c' |   6 | 2.2 |\n",
              "+-----+-----+-----+\n",
              "| 'd' |   9 | 8.1 |\n",
              "+-----+-----+-----+"
            ]
          },
          "metadata": {},
          "execution_count": 113
        }
      ]
    },
    {
      "cell_type": "markdown",
      "source": [
        "You learned how to perform some basic transformations of the table, but what if you want to look up values not based on indices but rather on criteria such as a certain column's entry being bigger than some threshold? In the next chapter we are going to take a look at how to select rows via user given conditions."
      ],
      "metadata": {
        "id": "CFuoBXMuXMnG"
      }
    },
    {
      "cell_type": "code",
      "source": [
        ""
      ],
      "metadata": {
        "id": "cH_yQZf5X9e3"
      },
      "execution_count": null,
      "outputs": []
    }
  ]
}