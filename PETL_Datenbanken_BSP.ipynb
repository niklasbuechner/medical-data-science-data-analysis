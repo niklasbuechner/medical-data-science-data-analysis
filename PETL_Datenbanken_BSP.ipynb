{
  "nbformat": 4,
  "nbformat_minor": 0,
  "metadata": {
    "colab": {
      "name": "PETL_Datenbanken_BSP.ipynb",
      "provenance": [],
      "collapsed_sections": [],
      "authorship_tag": "ABX9TyOTDvwsRLYSiLPS9UANt8D6",
      "include_colab_link": true
    },
    "kernelspec": {
      "name": "python3",
      "display_name": "Python 3"
    },
    "language_info": {
      "name": "python"
    }
  },
  "cells": [
    {
      "cell_type": "markdown",
      "metadata": {
        "id": "view-in-github",
        "colab_type": "text"
      },
      "source": [
        "<a href=\"https://colab.research.google.com/github/Fuenfgeld/2022TeamADataEngineeringBC/blob/5-%C3%BCbung-db-daten-einlesen/PETL_Datenbanken_BSP.ipynb\" target=\"_parent\"><img src=\"https://colab.research.google.com/assets/colab-badge.svg\" alt=\"Open In Colab\"/></a>"
      ]
    },
    {
      "cell_type": "markdown",
      "source": [
        "## Erzeugen der Datenbank SQlite3\n"
      ],
      "metadata": {
        "id": "QtHAGHKKi_4z"
      }
    },
    {
      "cell_type": "code",
      "source": [
        "#kann sein das Petl noch installiert werden muss\n",
        "pip install petl"
      ],
      "metadata": {
        "colab": {
          "base_uri": "https://localhost:8080/",
          "height": 132
        },
        "id": "OuM2z5EWjaYt",
        "outputId": "ae1c417e-aba0-4de0-8381-064af11741ac"
      },
      "execution_count": 1,
      "outputs": [
        {
          "output_type": "error",
          "ename": "SyntaxError",
          "evalue": "ignored",
          "traceback": [
            "\u001b[0;36m  File \u001b[0;32m\"<ipython-input-1-b5476f8a0574>\"\u001b[0;36m, line \u001b[0;32m2\u001b[0m\n\u001b[0;31m    pip install petl\u001b[0m\n\u001b[0m              ^\u001b[0m\n\u001b[0;31mSyntaxError\u001b[0m\u001b[0;31m:\u001b[0m invalid syntax\n"
          ]
        }
      ]
    },
    {
      "cell_type": "code",
      "source": [
        "#Importieren der nötigen Packete\n",
        "import pandas as pd\n",
        "import petl as etl\n",
        "import sqlite3, os, sys\n"
      ],
      "metadata": {
        "id": "Wv36e4JajEry",
        "colab": {
          "base_uri": "https://localhost:8080/",
          "height": 358
        },
        "outputId": "bf8fe96b-4615-4bc2-bbc7-0af7d60df0c4"
      },
      "execution_count": null,
      "outputs": [
        {
          "output_type": "error",
          "ename": "ModuleNotFoundError",
          "evalue": "ignored",
          "traceback": [
            "\u001b[0;31m---------------------------------------------------------------------------\u001b[0m",
            "\u001b[0;31mModuleNotFoundError\u001b[0m                       Traceback (most recent call last)",
            "\u001b[0;32m<ipython-input-3-32d8547b9823>\u001b[0m in \u001b[0;36m<module>\u001b[0;34m()\u001b[0m\n\u001b[1;32m      1\u001b[0m \u001b[0;31m#Importieren der nötigen Packete\u001b[0m\u001b[0;34m\u001b[0m\u001b[0;34m\u001b[0m\u001b[0;34m\u001b[0m\u001b[0m\n\u001b[1;32m      2\u001b[0m \u001b[0;32mimport\u001b[0m \u001b[0mpandas\u001b[0m \u001b[0;32mas\u001b[0m \u001b[0mpd\u001b[0m\u001b[0;34m\u001b[0m\u001b[0;34m\u001b[0m\u001b[0m\n\u001b[0;32m----> 3\u001b[0;31m \u001b[0;32mimport\u001b[0m \u001b[0mpetl\u001b[0m \u001b[0;32mas\u001b[0m \u001b[0metl\u001b[0m\u001b[0;34m\u001b[0m\u001b[0;34m\u001b[0m\u001b[0m\n\u001b[0m\u001b[1;32m      4\u001b[0m \u001b[0;32mimport\u001b[0m \u001b[0msqlite3\u001b[0m\u001b[0;34m,\u001b[0m \u001b[0mos\u001b[0m\u001b[0;34m,\u001b[0m \u001b[0msys\u001b[0m\u001b[0;34m\u001b[0m\u001b[0;34m\u001b[0m\u001b[0m\n",
            "\u001b[0;31mModuleNotFoundError\u001b[0m: No module named 'petl'",
            "",
            "\u001b[0;31m---------------------------------------------------------------------------\u001b[0;32m\nNOTE: If your import is failing due to a missing package, you can\nmanually install dependencies using either !pip or !apt.\n\nTo view examples of installing some common dependencies, click the\n\"Open Examples\" button below.\n\u001b[0;31m---------------------------------------------------------------------------\u001b[0m\n"
          ],
          "errorDetails": {
            "actions": [
              {
                "action": "open_url",
                "actionText": "Open Examples",
                "url": "/notebooks/snippets/importing_libraries.ipynb"
              }
            ]
          }
        }
      ]
    },
    {
      "cell_type": "markdown",
      "source": [
        "Überprüfung ob die Datenbank bereits angelegt wurde.."
      ],
      "metadata": {
        "id": "M4Rh6nUzj2AZ"
      }
    },
    {
      "cell_type": "code",
      "source": [
        "if os.path.exists(\"firma.db\"):\n",
        "    print(\"Datei bereits vorhanden\")\n",
        "    sys.exit(0)"
      ],
      "metadata": {
        "id": "LveOFuyLjy3h",
        "colab": {
          "base_uri": "https://localhost:8080/",
          "height": 187
        },
        "outputId": "fb487def-adae-432a-c3ac-9a2c1cf3adcc"
      },
      "execution_count": null,
      "outputs": [
        {
          "output_type": "stream",
          "name": "stdout",
          "text": [
            "Datei bereits vorhanden\n"
          ]
        },
        {
          "output_type": "error",
          "ename": "SystemExit",
          "evalue": "ignored",
          "traceback": [
            "An exception has occurred, use %tb to see the full traceback.\n",
            "\u001b[0;31mSystemExit\u001b[0m\u001b[0;31m:\u001b[0m 0\n"
          ]
        },
        {
          "output_type": "stream",
          "name": "stderr",
          "text": [
            "/usr/local/lib/python3.7/dist-packages/IPython/core/interactiveshell.py:2890: UserWarning: To exit: use 'exit', 'quit', or Ctrl-D.\n",
            "  warn(\"To exit: use 'exit', 'quit', or Ctrl-D.\", stacklevel=1)\n"
          ]
        }
      ]
    },
    {
      "cell_type": "markdown",
      "source": [
        "Verbindung zur Datenbank herstellen.."
      ],
      "metadata": {
        "id": "gMD9ZKGqj-ql"
      }
    },
    {
      "cell_type": "code",
      "source": [
        "connection = sqlite3.connect(\"firma.db\")"
      ],
      "metadata": {
        "id": "wVbQhK9Rj-Ks",
        "colab": {
          "base_uri": "https://localhost:8080/",
          "height": 167
        },
        "outputId": "fe456aba-4aff-4d5f-9b23-67d66ec3e4b8"
      },
      "execution_count": null,
      "outputs": [
        {
          "output_type": "error",
          "ename": "NameError",
          "evalue": "ignored",
          "traceback": [
            "\u001b[0;31m---------------------------------------------------------------------------\u001b[0m",
            "\u001b[0;31mNameError\u001b[0m                                 Traceback (most recent call last)",
            "\u001b[0;32m<ipython-input-2-11a1e11a5e22>\u001b[0m in \u001b[0;36m<module>\u001b[0;34m()\u001b[0m\n\u001b[0;32m----> 1\u001b[0;31m \u001b[0mconnection\u001b[0m \u001b[0;34m=\u001b[0m \u001b[0msqlite3\u001b[0m\u001b[0;34m.\u001b[0m\u001b[0mconnect\u001b[0m\u001b[0;34m(\u001b[0m\u001b[0;34m\"firma.db\"\u001b[0m\u001b[0;34m)\u001b[0m\u001b[0;34m\u001b[0m\u001b[0;34m\u001b[0m\u001b[0m\n\u001b[0m",
            "\u001b[0;31mNameError\u001b[0m: name 'sqlite3' is not defined"
          ]
        }
      ]
    },
    {
      "cell_type": "markdown",
      "source": [
        "Datensatz Cursor erzeugen"
      ],
      "metadata": {
        "id": "-7CBEv8fkJ2Y"
      }
    },
    {
      "cell_type": "code",
      "source": [
        "cursor = connection.cursor()"
      ],
      "metadata": {
        "id": "5y1K8P_DkRmQ"
      },
      "execution_count": null,
      "outputs": []
    },
    {
      "cell_type": "markdown",
      "source": [
        "Datenbanktabelle erzeugen...\n"
      ],
      "metadata": {
        "id": "ddjXkqfakXQL"
      }
    },
    {
      "cell_type": "code",
      "source": [
        "#a = \"DROP TABLE personen \"\n",
        "#cursor.execute(a)\n",
        "\n",
        "sql = \"CREATE TABLE personen(\" \\\n",
        "      \"name TEXT, \" \\\n",
        "      \"vorname TEXT, \" \\\n",
        "      \"personalnummer INTEGER PRIMARY KEY, \" \\\n",
        "      \"gehalt REAL, \" \\\n",
        "      \"geburtstag DATE)\"\n",
        "cursor.execute(sql)"
      ],
      "metadata": {
        "colab": {
          "base_uri": "https://localhost:8080/"
        },
        "id": "Czba885wkdV4",
        "outputId": "fc3ec55e-8175-4149-8c61-35d691d3613f"
      },
      "execution_count": null,
      "outputs": [
        {
          "output_type": "execute_result",
          "data": {
            "text/plain": [
              "<sqlite3.Cursor at 0x7f5ec52f50a0>"
            ]
          },
          "metadata": {},
          "execution_count": 42
        }
      ]
    },
    {
      "cell_type": "markdown",
      "source": [
        "Datensätze erzeugen und an die Datenbank weiterleiten..."
      ],
      "metadata": {
        "id": "evojGLP0khzh"
      }
    },
    {
      "cell_type": "code",
      "source": [
        "sql = \"INSERT INTO personen VALUES('Maier', \" \\\n",
        "      \"'Hans', 6714, 3500, '1962-03-15')\"\n",
        "cursor.execute(sql)\n",
        "\n",
        "# Datensatz erzeugen\n",
        "sql = \"INSERT INTO personen VALUES('Schmitz', \" \\\n",
        "      \"'Peter', 81343, 3750, '1958-04-12')\"\n",
        "cursor.execute(sql)\n",
        "\n",
        "\n",
        "# Datensatz erzeugen\n",
        "sql = \"INSERT INTO personen VALUES('Mertens', \" \\\n",
        "      \"'Julia', 2297, 3621.5, '1959-12-30')\"\n",
        "cursor.execute(sql)\n",
        "connection.commit()"
      ],
      "metadata": {
        "id": "0t9xyKS9khiI",
        "colab": {
          "base_uri": "https://localhost:8080/",
          "height": 236
        },
        "outputId": "a9457bbe-e148-41e3-efba-fe89b016811c"
      },
      "execution_count": null,
      "outputs": [
        {
          "output_type": "error",
          "ename": "NameError",
          "evalue": "ignored",
          "traceback": [
            "\u001b[0;31m---------------------------------------------------------------------------\u001b[0m",
            "\u001b[0;31mNameError\u001b[0m                                 Traceback (most recent call last)",
            "\u001b[0;32m<ipython-input-1-a300974770ac>\u001b[0m in \u001b[0;36m<module>\u001b[0;34m()\u001b[0m\n\u001b[1;32m      1\u001b[0m \u001b[0msql\u001b[0m \u001b[0;34m=\u001b[0m \u001b[0;34m\"INSERT INTO personen VALUES('Maier', \"\u001b[0m       \u001b[0;34m\"'Hans', 6714, 3500, '1962-03-15')\"\u001b[0m\u001b[0;34m\u001b[0m\u001b[0;34m\u001b[0m\u001b[0m\n\u001b[0;32m----> 2\u001b[0;31m \u001b[0mcursor\u001b[0m\u001b[0;34m.\u001b[0m\u001b[0mexecute\u001b[0m\u001b[0;34m(\u001b[0m\u001b[0msql\u001b[0m\u001b[0;34m)\u001b[0m\u001b[0;34m\u001b[0m\u001b[0;34m\u001b[0m\u001b[0m\n\u001b[0m\u001b[1;32m      3\u001b[0m \u001b[0;34m\u001b[0m\u001b[0m\n\u001b[1;32m      4\u001b[0m \u001b[0;31m# Datensatz erzeugen\u001b[0m\u001b[0;34m\u001b[0m\u001b[0;34m\u001b[0m\u001b[0;34m\u001b[0m\u001b[0m\n\u001b[1;32m      5\u001b[0m \u001b[0msql\u001b[0m \u001b[0;34m=\u001b[0m \u001b[0;34m\"INSERT INTO personen VALUES('Schmitz', \"\u001b[0m       \u001b[0;34m\"'Peter', 81343, 3750, '1958-04-12')\"\u001b[0m\u001b[0;34m\u001b[0m\u001b[0;34m\u001b[0m\u001b[0m\n",
            "\u001b[0;31mNameError\u001b[0m: name 'cursor' is not defined"
          ]
        }
      ]
    },
    {
      "cell_type": "markdown",
      "source": [
        "Anschließend wird die Verbindung zur Datenbank gelöst...\n"
      ],
      "metadata": {
        "id": "zzHgvw-Wl301"
      }
    },
    {
      "cell_type": "code",
      "source": [
        "connection.close()"
      ],
      "metadata": {
        "id": "WVhRwSJKl-sQ"
      },
      "execution_count": null,
      "outputs": []
    },
    {
      "cell_type": "markdown",
      "source": [
        "##Nachdem die Datenbank aufgesetzt wurde könnten verschiedene operationen auf die DB angewandt werden...."
      ],
      "metadata": {
        "id": "pT_yfvJdmB5l"
      }
    },
    {
      "cell_type": "code",
      "source": [
        "#Fuer Operatioen wird zunächst eine Verbindung erstellt und die erste Anweisung ausgeführt\n",
        "connection = sqlite3.connect('firma.db')\n"
      ],
      "metadata": {
        "id": "2uZtoLGcmV7q"
      },
      "execution_count": null,
      "outputs": []
    },
    {
      "cell_type": "code",
      "source": [
        "#Ausgabe aller Personendaten\n",
        "table = etl.fromdb(connection, 'SELECT * FROM personen')\n",
        "print(table)"
      ],
      "metadata": {
        "colab": {
          "base_uri": "https://localhost:8080/"
        },
        "id": "THGFI7FfoM1D",
        "outputId": "89dcd521-4d9f-4f76-d760-49c40d411f0d"
      },
      "execution_count": null,
      "outputs": [
        {
          "output_type": "stream",
          "name": "stdout",
          "text": [
            "+---------+---------+----------------+--------+------------+\n",
            "| name    | vorname | personalnummer | gehalt | geburtstag |\n",
            "+=========+=========+================+========+============+\n",
            "| Mertens | Julia   |           2297 | 3621.5 | 30.12.1959 |\n",
            "+---------+---------+----------------+--------+------------+\n",
            "| Maier   | Hans    |           6714 | 3500.0 | 15.03.1962 |\n",
            "+---------+---------+----------------+--------+------------+\n",
            "| Schmitz | Peter   |          81343 | 3750.0 | 12.04.1958 |\n",
            "+---------+---------+----------------+--------+------------+\n",
            "\n"
          ]
        }
      ]
    },
    {
      "cell_type": "code",
      "source": [
        "table = etl.fromdb(connection, 'SELECT name, vorname FROM personen')\n",
        "table.look()"
      ],
      "metadata": {
        "colab": {
          "base_uri": "https://localhost:8080/"
        },
        "id": "xX8x-oKvpQ4J",
        "outputId": "f05ada29-b352-455b-8b2a-868e72826cb4"
      },
      "execution_count": null,
      "outputs": [
        {
          "output_type": "execute_result",
          "data": {
            "text/plain": [
              "+-----------+---------+\n",
              "| name      | vorname |\n",
              "+===========+=========+\n",
              "| 'Mertens' | 'Julia' |\n",
              "+-----------+---------+\n",
              "| 'Maier'   | 'Hans'  |\n",
              "+-----------+---------+\n",
              "| 'Schmitz' | 'Peter' |\n",
              "+-----------+---------+"
            ]
          },
          "metadata": {},
          "execution_count": 35
        }
      ]
    },
    {
      "cell_type": "code",
      "source": [
        "# Auswahl mit WHERE-Klausel und Vergleichsoperator\n",
        "# Gesucht wird die Personalnummern der Personen die zwischen 3600€ und 3650€ verdienen\n",
        "table = etl.fromdb(connection, 'SELECT personalnummer, gehalt FROM personen WHERE gehalt >= 3600 AND gehalt <= 3650')\n",
        "table.look()"
      ],
      "metadata": {
        "colab": {
          "base_uri": "https://localhost:8080/"
        },
        "id": "qcdS3kMxplBj",
        "outputId": "bcab37e8-f96d-47e3-f5b2-49d35edba930"
      },
      "execution_count": null,
      "outputs": [
        {
          "output_type": "execute_result",
          "data": {
            "text/plain": [
              "+----------------+--------+\n",
              "| personalnummer | gehalt |\n",
              "+================+========+\n",
              "|           2297 | 3621.5 |\n",
              "+----------------+--------+"
            ]
          },
          "metadata": {},
          "execution_count": 34
        }
      ]
    },
    {
      "cell_type": "code",
      "source": [
        "table = etl.fromdb(connection, 'SELECT * FROM personen WHERE geburtstag > 1960')\n",
        "table.look()"
      ],
      "metadata": {
        "colab": {
          "base_uri": "https://localhost:8080/"
        },
        "id": "OehSjda8qWd3",
        "outputId": "ef0a5680-868b-4966-d361-afbff4fa0251"
      },
      "execution_count": null,
      "outputs": [
        {
          "output_type": "execute_result",
          "data": {
            "text/plain": [
              "+-----------+---------+----------------+--------+--------------+\n",
              "| name      | vorname | personalnummer | gehalt | geburtstag   |\n",
              "+===========+=========+================+========+==============+\n",
              "| 'Mertens' | 'Julia' |           2297 | 3621.5 | '30.12.1959' |\n",
              "+-----------+---------+----------------+--------+--------------+"
            ]
          },
          "metadata": {},
          "execution_count": 33
        }
      ]
    }
  ]
}