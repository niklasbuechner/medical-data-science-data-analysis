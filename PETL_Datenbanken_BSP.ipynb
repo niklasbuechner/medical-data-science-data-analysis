{
  "nbformat": 4,
  "nbformat_minor": 0,
  "metadata": {
    "colab": {
      "name": "PETL_Datenbanken_BSP.ipynb",
      "provenance": [],
      "collapsed_sections": [],
      "authorship_tag": "ABX9TyN+Lk58jf5jHDWTnDdxs27S",
      "include_colab_link": true
    },
    "kernelspec": {
      "name": "python3",
      "display_name": "Python 3"
    },
    "language_info": {
      "name": "python"
    }
  },
  "cells": [
    {
      "cell_type": "markdown",
      "metadata": {
        "id": "view-in-github",
        "colab_type": "text"
      },
      "source": [
        "<a href=\"https://colab.research.google.com/github/Fuenfgeld/2022TeamADataEngineeringBC/blob/5-%C3%BCbung-db-daten-einlesen/PETL_Datenbanken_BSP.ipynb\" target=\"_parent\"><img src=\"https://colab.research.google.com/assets/colab-badge.svg\" alt=\"Open In Colab\"/></a>"
      ]
    },
    {
      "cell_type": "markdown",
      "source": [
        "## Erzeugen der Datenbank SQlite3\n"
      ],
      "metadata": {
        "id": "QtHAGHKKi_4z"
      }
    },
    {
      "cell_type": "code",
      "source": [
        "#kann sein das Petl noch installiert werden muss\n",
        "!pip install petl"
      ],
      "metadata": {
        "colab": {
          "base_uri": "https://localhost:8080/"
        },
        "id": "OuM2z5EWjaYt",
        "outputId": "d2aacdb8-7223-4a30-c242-f0d5c41a6a40"
      },
      "execution_count": 1,
      "outputs": [
        {
          "output_type": "stream",
          "name": "stdout",
          "text": [
            "Collecting petl\n",
            "  Downloading petl-1.7.8.tar.gz (401 kB)\n",
            "\u001b[K     |████████████████████████████████| 401 kB 4.2 MB/s \n",
            "\u001b[?25h  Installing build dependencies ... \u001b[?25l\u001b[?25hdone\n",
            "  Getting requirements to build wheel ... \u001b[?25l\u001b[?25hdone\n",
            "    Preparing wheel metadata ... \u001b[?25l\u001b[?25hdone\n",
            "Building wheels for collected packages: petl\n",
            "  Building wheel for petl (PEP 517) ... \u001b[?25l\u001b[?25hdone\n",
            "  Created wheel for petl: filename=petl-1.7.8-py3-none-any.whl size=219365 sha256=9dae24dfd0a1efecb480f18326cf9901234a9741a7bd00f763f5b90d89de0c7d\n",
            "  Stored in directory: /root/.cache/pip/wheels/fe/3d/5c/e10ec10f8988404563318132cbd9d37f5798198dfbe4d5f12f\n",
            "Successfully built petl\n",
            "Installing collected packages: petl\n",
            "Successfully installed petl-1.7.8\n"
          ]
        }
      ]
    },
    {
      "cell_type": "code",
      "source": [
        "#Importieren der nötigen Packete\n",
        "import pandas as pd\n",
        "import petl as etl\n",
        "import sqlite3, os, sys\n"
      ],
      "metadata": {
        "id": "Wv36e4JajEry"
      },
      "execution_count": 2,
      "outputs": []
    },
    {
      "cell_type": "markdown",
      "source": [
        "Überprüfung ob die Datenbank bereits angelegt wurde.."
      ],
      "metadata": {
        "id": "M4Rh6nUzj2AZ"
      }
    },
    {
      "cell_type": "code",
      "source": [
        "if os.path.exists(\"firma.db\"):\n",
        "    print(\"Datei bereits vorhanden\")\n",
        "    sys.exit(0)"
      ],
      "metadata": {
        "id": "LveOFuyLjy3h"
      },
      "execution_count": 3,
      "outputs": []
    },
    {
      "cell_type": "markdown",
      "source": [
        "Verbindung zur Datenbank herstellen.."
      ],
      "metadata": {
        "id": "gMD9ZKGqj-ql"
      }
    },
    {
      "cell_type": "code",
      "source": [
        "connection = sqlite3.connect(\"firma.db\")"
      ],
      "metadata": {
        "id": "wVbQhK9Rj-Ks"
      },
      "execution_count": 4,
      "outputs": []
    },
    {
      "cell_type": "markdown",
      "source": [
        "Datensatz Cursor erzeugen"
      ],
      "metadata": {
        "id": "-7CBEv8fkJ2Y"
      }
    },
    {
      "cell_type": "code",
      "source": [
        "cursor = connection.cursor()"
      ],
      "metadata": {
        "id": "5y1K8P_DkRmQ"
      },
      "execution_count": 5,
      "outputs": []
    },
    {
      "cell_type": "markdown",
      "source": [
        "Datenbanktabelle erzeugen...\n"
      ],
      "metadata": {
        "id": "ddjXkqfakXQL"
      }
    },
    {
      "cell_type": "code",
      "source": [
        "#a = \"DROP TABLE personen \"\n",
        "#cursor.execute(a)\n",
        "\n",
        "sql = \"CREATE TABLE personen(\" \\\n",
        "      \"name TEXT, \" \\\n",
        "      \"vorname TEXT, \" \\\n",
        "      \"personalnummer INTEGER PRIMARY KEY, \" \\\n",
        "      \"gehalt REAL, \" \\\n",
        "      \"geburtstag DATE)\"\n",
        "cursor.execute(sql)"
      ],
      "metadata": {
        "colab": {
          "base_uri": "https://localhost:8080/"
        },
        "id": "Czba885wkdV4",
        "outputId": "dc0746fe-0d1f-4bbb-8681-6372a81cfe3a"
      },
      "execution_count": 6,
      "outputs": [
        {
          "output_type": "execute_result",
          "data": {
            "text/plain": [
              "<sqlite3.Cursor at 0x7f5c48c11a40>"
            ]
          },
          "metadata": {},
          "execution_count": 6
        }
      ]
    },
    {
      "cell_type": "markdown",
      "source": [
        "Datensätze erzeugen und an die Datenbank weiterleiten..."
      ],
      "metadata": {
        "id": "evojGLP0khzh"
      }
    },
    {
      "cell_type": "code",
      "source": [
        "sql = \"INSERT INTO personen VALUES('Maier', \" \\\n",
        "      \"'Hans', 6714, 3500, '1962-03-15')\"\n",
        "cursor.execute(sql)\n",
        "\n",
        "# Datensatz erzeugen\n",
        "sql = \"INSERT INTO personen VALUES('Schmitz', \" \\\n",
        "      \"'Peter', 81343, 3750, '1958-04-12')\"\n",
        "cursor.execute(sql)\n",
        "\n",
        "\n",
        "# Datensatz erzeugen\n",
        "sql = \"INSERT INTO personen VALUES('Mertens', \" \\\n",
        "      \"'Julia', 2297, 3621.5, '1959-12-30')\"\n",
        "cursor.execute(sql)\n",
        "connection.commit()"
      ],
      "metadata": {
        "id": "0t9xyKS9khiI"
      },
      "execution_count": 7,
      "outputs": []
    },
    {
      "cell_type": "markdown",
      "source": [
        "Anschließend wird die Verbindung zur Datenbank gelöst...\n"
      ],
      "metadata": {
        "id": "zzHgvw-Wl301"
      }
    },
    {
      "cell_type": "code",
      "source": [
        "connection.close()"
      ],
      "metadata": {
        "id": "WVhRwSJKl-sQ"
      },
      "execution_count": 8,
      "outputs": []
    },
    {
      "cell_type": "markdown",
      "source": [
        "##Nachdem die Datenbank aufgesetzt wurde könnten verschiedene operationen auf die DB angewandt werden...."
      ],
      "metadata": {
        "id": "pT_yfvJdmB5l"
      }
    },
    {
      "cell_type": "code",
      "source": [
        "#Fuer Operatioen wird zunächst eine Verbindung erstellt und die erste Anweisung ausgeführt\n",
        "connection = sqlite3.connect('firma.db')\n"
      ],
      "metadata": {
        "id": "2uZtoLGcmV7q"
      },
      "execution_count": 9,
      "outputs": []
    },
    {
      "cell_type": "code",
      "source": [
        "#Ausgabe aller Personendaten\n",
        "table = etl.fromdb(connection, 'SELECT * FROM personen')\n",
        "print(table)"
      ],
      "metadata": {
        "colab": {
          "base_uri": "https://localhost:8080/"
        },
        "id": "THGFI7FfoM1D",
        "outputId": "4e3311f8-5f48-495a-c8cb-39b194fe7c0c"
      },
      "execution_count": 10,
      "outputs": [
        {
          "output_type": "stream",
          "name": "stdout",
          "text": [
            "+---------+---------+----------------+--------+------------+\n",
            "| name    | vorname | personalnummer | gehalt | geburtstag |\n",
            "+=========+=========+================+========+============+\n",
            "| Mertens | Julia   |           2297 | 3621.5 | 1959-12-30 |\n",
            "+---------+---------+----------------+--------+------------+\n",
            "| Maier   | Hans    |           6714 | 3500.0 | 1962-03-15 |\n",
            "+---------+---------+----------------+--------+------------+\n",
            "| Schmitz | Peter   |          81343 | 3750.0 | 1958-04-12 |\n",
            "+---------+---------+----------------+--------+------------+\n",
            "\n"
          ]
        }
      ]
    },
    {
      "cell_type": "code",
      "source": [
        "table = etl.fromdb(connection, 'SELECT name, vorname FROM personen')\n",
        "table.look()"
      ],
      "metadata": {
        "colab": {
          "base_uri": "https://localhost:8080/"
        },
        "id": "xX8x-oKvpQ4J",
        "outputId": "3911aa32-ed27-45c3-8fa0-5e22ad5786e0"
      },
      "execution_count": 11,
      "outputs": [
        {
          "output_type": "execute_result",
          "data": {
            "text/plain": [
              "+-----------+---------+\n",
              "| name      | vorname |\n",
              "+===========+=========+\n",
              "| 'Mertens' | 'Julia' |\n",
              "+-----------+---------+\n",
              "| 'Maier'   | 'Hans'  |\n",
              "+-----------+---------+\n",
              "| 'Schmitz' | 'Peter' |\n",
              "+-----------+---------+"
            ]
          },
          "metadata": {},
          "execution_count": 11
        }
      ]
    },
    {
      "cell_type": "code",
      "source": [
        "# Auswahl mit WHERE-Klausel und Vergleichsoperator\n",
        "# Gesucht wird die Personalnummern der Personen die zwischen 3600€ und 3650€ verdienen\n",
        "table = etl.fromdb(connection, 'SELECT personalnummer, gehalt FROM personen WHERE gehalt >= 3600 AND gehalt <= 3650')\n",
        "table.look()"
      ],
      "metadata": {
        "colab": {
          "base_uri": "https://localhost:8080/"
        },
        "id": "qcdS3kMxplBj",
        "outputId": "beab866d-be85-4c40-9648-927a13d62da0"
      },
      "execution_count": 12,
      "outputs": [
        {
          "output_type": "execute_result",
          "data": {
            "text/plain": [
              "+----------------+--------+\n",
              "| personalnummer | gehalt |\n",
              "+================+========+\n",
              "|           2297 | 3621.5 |\n",
              "+----------------+--------+"
            ]
          },
          "metadata": {},
          "execution_count": 12
        }
      ]
    },
    {
      "cell_type": "code",
      "source": [
        "table = etl.fromdb(connection, 'SELECT * FROM personen WHERE geburtstag > 1960')\n",
        "table.look()"
      ],
      "metadata": {
        "colab": {
          "base_uri": "https://localhost:8080/"
        },
        "id": "OehSjda8qWd3",
        "outputId": "b051fc18-1a27-48af-d7da-9109586386c4"
      },
      "execution_count": 13,
      "outputs": [
        {
          "output_type": "execute_result",
          "data": {
            "text/plain": [
              "+-----------+---------+----------------+--------+--------------+\n",
              "| name      | vorname | personalnummer | gehalt | geburtstag   |\n",
              "+===========+=========+================+========+==============+\n",
              "| 'Mertens' | 'Julia' |           2297 | 3621.5 | '1959-12-30' |\n",
              "+-----------+---------+----------------+--------+--------------+\n",
              "| 'Maier'   | 'Hans'  |           6714 | 3500.0 | '1962-03-15' |\n",
              "+-----------+---------+----------------+--------+--------------+\n",
              "| 'Schmitz' | 'Peter' |          81343 | 3750.0 | '1958-04-12' |\n",
              "+-----------+---------+----------------+--------+--------------+"
            ]
          },
          "metadata": {},
          "execution_count": 13
        }
      ]
    }
  ]
}