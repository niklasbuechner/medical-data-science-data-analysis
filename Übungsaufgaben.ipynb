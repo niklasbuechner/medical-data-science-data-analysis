{
  "cells": [
    {
      "cell_type": "markdown",
      "metadata": {
        "id": "view-in-github",
        "colab_type": "text"
      },
      "source": [
        "<a href=\"https://colab.research.google.com/github/Fuenfgeld/2022TeamADataEngineeringBC/blob/Ahmads_Branch/%C3%9Cbungsaufgaben.ipynb\" target=\"_parent\"><img src=\"https://colab.research.google.com/assets/colab-badge.svg\" alt=\"Open In Colab\"/></a>"
      ]
    },
    {
      "cell_type": "markdown",
      "metadata": {
        "id": "XZxVqkOwF98C"
      },
      "source": [
        "# Einfache Transformationen"
      ]
    },
    {
      "cell_type": "code",
      "execution_count": 1,
      "metadata": {
        "colab": {
          "base_uri": "https://localhost:8080/"
        },
        "id": "fUtXLhoNONMJ",
        "outputId": "5cdfb36f-3a2f-4e9f-ff72-9fb0334e4f2b"
      },
      "outputs": [
        {
          "output_type": "stream",
          "name": "stdout",
          "text": [
            "Collecting pyspark\n",
            "  Downloading pyspark-3.2.1.tar.gz (281.4 MB)\n",
            "\u001b[K     |████████████████████████████████| 281.4 MB 35 kB/s \n",
            "\u001b[?25hRequirement already satisfied: pandas in /usr/local/lib/python3.7/dist-packages (1.3.5)\n",
            "Collecting py4j==0.10.9.3\n",
            "  Downloading py4j-0.10.9.3-py2.py3-none-any.whl (198 kB)\n",
            "\u001b[K     |████████████████████████████████| 198 kB 60.5 MB/s \n",
            "\u001b[?25hRequirement already satisfied: numpy>=1.17.3 in /usr/local/lib/python3.7/dist-packages (from pandas) (1.21.6)\n",
            "Requirement already satisfied: pytz>=2017.3 in /usr/local/lib/python3.7/dist-packages (from pandas) (2022.1)\n",
            "Requirement already satisfied: python-dateutil>=2.7.3 in /usr/local/lib/python3.7/dist-packages (from pandas) (2.8.2)\n",
            "Requirement already satisfied: six>=1.5 in /usr/local/lib/python3.7/dist-packages (from python-dateutil>=2.7.3->pandas) (1.15.0)\n",
            "Building wheels for collected packages: pyspark\n",
            "  Building wheel for pyspark (setup.py) ... \u001b[?25l\u001b[?25hdone\n",
            "  Created wheel for pyspark: filename=pyspark-3.2.1-py2.py3-none-any.whl size=281853642 sha256=2a37ea37155c40e816aeed05069f6c494499deef8c848cd0d17ccf5a5351164b\n",
            "  Stored in directory: /root/.cache/pip/wheels/9f/f5/07/7cd8017084dce4e93e84e92efd1e1d5334db05f2e83bcef74f\n",
            "Successfully built pyspark\n",
            "Installing collected packages: py4j, pyspark\n",
            "Successfully installed py4j-0.10.9.3 pyspark-3.2.1\n"
          ]
        }
      ],
      "source": [
        "# Bibliotheken einmalig installieren\n",
        "\n",
        "%pip install pyspark pandas"
      ]
    },
    {
      "cell_type": "code",
      "execution_count": null,
      "metadata": {
        "id": "f8KKPiSjF98Y"
      },
      "outputs": [],
      "source": [
        "!wget -O create_data.py https://raw.githubusercontent.com/Fuenfgeld/2022TeamADataEngineeringBC/pull-everything-together/Pr%C3%A4sentationen/02-Einfache%20Transformationen/create_data.py"
      ]
    },
    {
      "cell_type": "code",
      "execution_count": 4,
      "metadata": {
        "colab": {
          "base_uri": "https://localhost:8080/"
        },
        "id": "Cnqw0K59F98a",
        "outputId": "94c2c61b-afc4-4e7d-bf29-6d9ddc73d6a3"
      },
      "outputs": [
        {
          "output_type": "execute_result",
          "data": {
            "text/plain": [
              "0"
            ]
          },
          "metadata": {},
          "execution_count": 4
        }
      ],
      "source": [
        "import sqlite3\n",
        "import pandas as pd\n",
        "import pyspark.sql.functions as pysparkFunctions \n",
        "import os\n",
        "\n",
        "os.system(\"python3 create_data.py\")"
      ]
    },
    {
      "cell_type": "code",
      "execution_count": 5,
      "metadata": {
        "colab": {
          "base_uri": "https://localhost:8080/"
        },
        "id": "CyG16lp1QzBH",
        "outputId": "c475929c-aa10-4c41-cc68-21a5e2cc6f96"
      },
      "outputs": [
        {
          "output_type": "stream",
          "name": "stdout",
          "text": [
            "(5, 'Barn Ground', 10)\n",
            "(6, 'Bank', 10)\n",
            "(7, 'Far Brossler', 20)\n",
            "\n",
            "\n",
            "Dies ist das erzeugte Dataframe:\n",
            "\n",
            "    field_id    field_name  area_in_sqm\n",
            "0         5   Barn Ground           10\n",
            "1         6          Bank           10\n",
            "2         7  Far Brossler           20\n"
          ]
        }
      ],
      "source": [
        "## Datenbankdaten in Dataframe schreiben\n",
        "connection_obj = sqlite3.connect('Diddly_Squat_Farm.db')\n",
        "cursor_obj = connection_obj.cursor()\n",
        "\n",
        "# Tabelle Fields ausgeben\n",
        "for row in cursor_obj.execute('SELECT * FROM fields'):\n",
        "        print(row)\n",
        "\n",
        "# Tabelle Fields in Dataframe df_fields schreiben\n",
        "df_fields = pd.read_sql_query(\"SELECT * FROM fields\", connection_obj)\n",
        "print('\\n\\nDies ist das erzeugte Dataframe:\\n\\n', df_fields)\n",
        "\n",
        "connection_obj.close()"
      ]
    },
    {
      "cell_type": "code",
      "execution_count": 6,
      "metadata": {
        "id": "PNe_AqfkRfbh"
      },
      "outputs": [],
      "source": [
        "## (Py)Spark starten\n",
        "\n",
        "from pyspark.sql import SparkSession\n",
        "spark = SparkSession.builder.getOrCreate()"
      ]
    },
    {
      "cell_type": "code",
      "execution_count": 7,
      "metadata": {
        "colab": {
          "base_uri": "https://localhost:8080/"
        },
        "id": "l_rWs30hRjbN",
        "outputId": "c190309d-625b-4e7d-9778-fb779847face"
      },
      "outputs": [
        {
          "output_type": "stream",
          "name": "stdout",
          "text": [
            "+------------+-----+----+-----------------+-------+-------------+\n",
            "|        crop|field|week|water_consumption|revenue|yield_per_sqm|\n",
            "+------------+-----+----+-----------------+-------+-------------+\n",
            "|strawberries|    7|   1|               12|      0|            0|\n",
            "|strawberries|    7|   2|               10|      0|            0|\n",
            "|strawberries|    7|   3|               12|      0|            0|\n",
            "|strawberries|    7|   4|               14|      0|            0|\n",
            "|strawberries|    7|   5|               14|      0|            5|\n",
            "|strawberries|    7|   6|               18|     30|           10|\n",
            "|strawberries|    7|   1|               12|      0|            0|\n",
            "|strawberries|    7|   2|               10|      0|            0|\n",
            "|strawberries|    7|   3|               12|      0|            0|\n",
            "|strawberries|    7|   7|               20|     60|           25|\n",
            "+------------+-----+----+-----------------+-------+-------------+\n",
            "only showing top 10 rows\n",
            "\n",
            "+--------+-----+-------+-----------------+----+-------------+\n",
            "|    crop|field|revenue|water_consumption|week|yield_per_sqm|\n",
            "+--------+-----+-------+-----------------+----+-------------+\n",
            "|zucchini|    5|      0|                6|   1|            0|\n",
            "|  radish|    6|      0|                4|   1|            0|\n",
            "|zucchini|    5|      0|                5|   2|            0|\n",
            "|  radish|    6|      0|                4|   2|            0|\n",
            "|zucchini|    5|      0|                6|   3|            0|\n",
            "|  radish|    6|      0|                5|   3|            0|\n",
            "|zucchini|    5|      0|                7|   4|            0|\n",
            "|  radish|    6|      0|                3|   4|            0|\n",
            "|zucchini|    5|      0|                7|   5|            5|\n",
            "|  radish|    6|      0|                6|   5|            0|\n",
            "+--------+-----+-------+-----------------+----+-------------+\n",
            "only showing top 10 rows\n",
            "\n"
          ]
        }
      ],
      "source": [
        "## JSON-/CSV-Dateien in Dataframes schreiben\n",
        "df_fru = spark.read.options(header='True', multiline='True', inferSchema='True').csv('Fruits.csv')\n",
        "df_veg = spark.read.option(\"multiline\",True).json('Vegetables.json')\n",
        "\n",
        "# erstellte Dataframes ausgeben (10 Einträge ausgeben)\n",
        "df_fru.show(10)\n",
        "df_veg.show(10)\n"
      ]
    },
    {
      "cell_type": "code",
      "execution_count": 8,
      "metadata": {
        "colab": {
          "base_uri": "https://localhost:8080/"
        },
        "id": "Nl-G1iyyTWZ1",
        "outputId": "9d1baf1a-3f70-481d-ecba-08f549793751"
      },
      "outputs": [
        {
          "output_type": "stream",
          "name": "stdout",
          "text": [
            "Zucchini in der ersten Woche: Row(crop='zucchini', field=5, revenue=0, water_consumption=7, week=5, yield_per_sqm=5)\n",
            "\n"
          ]
        }
      ],
      "source": [
        "## Zeilen abfragen: Jeremy überlegt welche Pflanze er anbaut und schaut sich dafür die Zucchini genauer an\n",
        "\n",
        "df_veg_lokal = df_veg.collect()  # eigentlich unnötig, da bei uns ales lokal läuft\n",
        "print(f\"Zucchini in der ersten Woche: {df_veg_lokal[8]}\\n\")"
      ]
    },
    {
      "cell_type": "code",
      "execution_count": 9,
      "metadata": {
        "colab": {
          "base_uri": "https://localhost:8080/"
        },
        "id": "Cp_JydMeVZk2",
        "outputId": "66613488-6014-41de-b2c3-2a7ecdc80e1e"
      },
      "outputs": [
        {
          "output_type": "stream",
          "name": "stdout",
          "text": [
            "+--------+-----------------+\n",
            "|    crop|water_consumption|\n",
            "+--------+-----------------+\n",
            "|zucchini|                6|\n",
            "|  radish|                4|\n",
            "|zucchini|                5|\n",
            "|  radish|                4|\n",
            "|zucchini|                6|\n",
            "|  radish|                5|\n",
            "|zucchini|                7|\n",
            "|  radish|                3|\n",
            "|zucchini|                7|\n",
            "|  radish|                6|\n",
            "|zucchini|                9|\n",
            "|  radish|                7|\n",
            "|zucchini|               10|\n",
            "|  radish|                8|\n",
            "|zucchini|               13|\n",
            "|  radish|                8|\n",
            "|zucchini|               12|\n",
            "|  radish|             null|\n",
            "|zucchini|                5|\n",
            "|zucchini|             null|\n",
            "+--------+-----------------+\n",
            "\n"
          ]
        }
      ],
      "source": [
        "## Spalten abfragen:\tJeremy will sich Übersicht über generellen Wasserverbrauch der Gemüsesorten verschaffen -> dazu begutachtet er die Spalte 'Wasserverbrauch'  \n",
        "df_veg.select(\"crop\", \"water_consumption\").show()"
      ]
    },
    {
      "cell_type": "code",
      "execution_count": 10,
      "metadata": {
        "colab": {
          "base_uri": "https://localhost:8080/"
        },
        "id": "4Eub8hXEWKbl",
        "outputId": "082b6e3a-5b00-4529-d785-4f6725bbeb77"
      },
      "outputs": [
        {
          "output_type": "stream",
          "name": "stdout",
          "text": [
            "+------------+-----+----+-----------------+-------+-------------+\n",
            "|        crop|field|week|water_consumption|revenue|yield_per_sqm|\n",
            "+------------+-----+----+-----------------+-------+-------------+\n",
            "|strawberries|    7|   1|               12|      0|            0|\n",
            "|strawberries|    7|   2|               10|      0|            0|\n",
            "|strawberries|    7|   3|               12|      0|            0|\n",
            "|strawberries|    7|   4|               14|      0|            0|\n",
            "|strawberries|    7|   5|               14|      0|            5|\n",
            "|strawberries|    7|   6|               18|     30|           10|\n",
            "|strawberries|    7|   1|               12|      0|            0|\n",
            "|strawberries|    7|   2|               10|      0|            0|\n",
            "|strawberries|    7|   3|               12|      0|            0|\n",
            "|strawberries|    7|   7|               20|     60|           25|\n",
            "|strawberries|    7|   8|               26|    150|           25|\n",
            "|strawberries|    7|   9|               24|    150|           25|\n",
            "|strawberries|    7|  10|               10|    100|           25|\n",
            "|strawberries|    7|  11|             null|    150|            0|\n",
            "|    zucchini|    5|   0|                6|      1|            0|\n",
            "|      radish|    6|   0|                4|      1|            0|\n",
            "|    zucchini|    5|   0|                5|      2|            0|\n",
            "|      radish|    6|   0|                4|      2|            0|\n",
            "|    zucchini|    5|   0|                6|      3|            0|\n",
            "|      radish|    6|   0|                5|      3|            0|\n",
            "+------------+-----+----+-----------------+-------+-------------+\n",
            "only showing top 20 rows\n",
            "\n"
          ]
        }
      ],
      "source": [
        "## DataFrames Zusammenfügen: Jeremy überlegt ob er Gemüse oder Obst anbauen soll, \n",
        "## deshalb verschafft er sich eine Gesamtübersicht/Vergleich aller Obst- & Pflanzensorten: Obst- & Gemüsesorten konkatenieren\n",
        "\n",
        "df_fru_veg = df_fru.union(df_veg)\n",
        "df_fru_veg.show()"
      ]
    },
    {
      "cell_type": "code",
      "execution_count": 11,
      "metadata": {
        "colab": {
          "base_uri": "https://localhost:8080/"
        },
        "id": "TUdlwbUoF98u",
        "outputId": "9080e0c5-55a5-4f78-f635-6052184d8a97"
      },
      "outputs": [
        {
          "output_type": "stream",
          "name": "stdout",
          "text": [
            "+------------+-----+----+-----------------+-------+-------------+\n",
            "|        crop|field|week|water_consumption|revenue|yield_per_sqm|\n",
            "+------------+-----+----+-----------------+-------+-------------+\n",
            "|strawberries|    7|   5|               14|      0|            5|\n",
            "|strawberries|    7|   7|               20|     60|           25|\n",
            "|strawberries|    7|   9|               24|    150|           25|\n",
            "|strawberries|    7|   2|               10|      0|            0|\n",
            "|strawberries|    7|   6|               18|     30|           10|\n",
            "|strawberries|    7|   8|               26|    150|           25|\n",
            "|strawberries|    7|  11|             null|    150|            0|\n",
            "|strawberries|    7|   3|               12|      0|            0|\n",
            "|strawberries|    7|  10|               10|    100|           25|\n",
            "|strawberries|    7|   4|               14|      0|            0|\n",
            "|strawberries|    7|   1|               12|      0|            0|\n",
            "|    zucchini|    5|   0|                7|      5|            5|\n",
            "|    zucchini|    5|   0|                6|      1|            0|\n",
            "|    zucchini|    5|  50|               12|      9|           25|\n",
            "|    zucchini|    5|   0|                6|      3|            0|\n",
            "|    zucchini|    5|   0|                5|      2|            0|\n",
            "|      radish|    6|   0|                4|      1|            0|\n",
            "|    zucchini|    5|  50|               13|      8|           25|\n",
            "|      radish|    6|  60|             null|      1|            0|\n",
            "|    zucchini|    5|  50|             null|     11|            0|\n",
            "+------------+-----+----+-----------------+-------+-------------+\n",
            "only showing top 20 rows\n",
            "\n"
          ]
        }
      ],
      "source": [
        "## Dupliakte entfernen: Wie Jeremy gerade aufgefallen ist, enthällt die Tabelle noch Duplikate.\n",
        "## (Siehe z.B. Woche 2 der Erdbeeren) Diese sollen nun entfernt werden.\n",
        "\n",
        "df_fru_veg = df_fru_veg.dropDuplicates()\n",
        "df_fru_veg.show()"
      ]
    },
    {
      "cell_type": "code",
      "execution_count": 12,
      "metadata": {
        "colab": {
          "base_uri": "https://localhost:8080/"
        },
        "id": "vyjGrSoUXCGk",
        "outputId": "513bb38c-d061-44c2-cc39-9ad6b73455ff"
      },
      "outputs": [
        {
          "output_type": "stream",
          "name": "stdout",
          "text": [
            "+------------+-----------------+\n",
            "|        crop|water_consumption|\n",
            "+------------+-----------------+\n",
            "|strawberries|               14|\n",
            "|strawberries|               20|\n",
            "|strawberries|               24|\n",
            "|strawberries|               10|\n",
            "|strawberries|               18|\n",
            "|strawberries|               26|\n",
            "|strawberries|             null|\n",
            "|strawberries|               12|\n",
            "|strawberries|               10|\n",
            "|strawberries|               14|\n",
            "|strawberries|               12|\n",
            "|    zucchini|                7|\n",
            "|    zucchini|                6|\n",
            "|    zucchini|               12|\n",
            "|    zucchini|                6|\n",
            "|    zucchini|                5|\n",
            "|      radish|                4|\n",
            "|    zucchini|               13|\n",
            "|      radish|             null|\n",
            "|    zucchini|             null|\n",
            "+------------+-----------------+\n",
            "only showing top 20 rows\n",
            "\n"
          ]
        }
      ],
      "source": [
        "## Spalten entfernen:   Um einen klareren Blick auf die Daten zu erhalten, entfernt Jeremy alle Spalten\n",
        "## die nicht über den Wasserverbrauch aussagen\n",
        "\n",
        "df_fru_veg = df_fru_veg.drop(*('field', 'revenue', 'week', 'yield_per_sqm'))\n",
        "df_fru_veg.show()"
      ]
    },
    {
      "cell_type": "code",
      "execution_count": 13,
      "metadata": {
        "colab": {
          "base_uri": "https://localhost:8080/"
        },
        "id": "DbRI7RbAZ0rK",
        "outputId": "867dd46a-25b9-499d-a22c-03d461eea1fc"
      },
      "outputs": [
        {
          "output_type": "stream",
          "name": "stdout",
          "text": [
            "+------------+-----------------+\n",
            "|        crop|water_consumption|\n",
            "+------------+-----------------+\n",
            "|strawberries|               14|\n",
            "|strawberries|               20|\n",
            "|strawberries|               24|\n",
            "|strawberries|               10|\n",
            "|strawberries|               18|\n",
            "|strawberries|               26|\n",
            "|strawberries|               12|\n",
            "|strawberries|               10|\n",
            "|strawberries|               14|\n",
            "|strawberries|               12|\n",
            "|    zucchini|                7|\n",
            "|    zucchini|                6|\n",
            "|    zucchini|               12|\n",
            "|    zucchini|                6|\n",
            "|    zucchini|                5|\n",
            "|      radish|                4|\n",
            "|    zucchini|               13|\n",
            "|      radish|                8|\n",
            "|      radish|                6|\n",
            "|      radish|                3|\n",
            "+------------+-----------------+\n",
            "only showing top 20 rows\n",
            "\n"
          ]
        }
      ],
      "source": [
        "## Aufräumen:\tFür Jeremy sind jetzt natürlich nur Einträge relevant, die einen Wasserverbrauch beinhalten.\n",
        "\n",
        "df_fru_veg = df_fru_veg.dropna()\n",
        "df_fru_veg.show()"
      ]
    },
    {
      "cell_type": "code",
      "execution_count": 15,
      "metadata": {
        "colab": {
          "base_uri": "https://localhost:8080/"
        },
        "id": "MTXC3nnYF98x",
        "outputId": "b6627487-d38d-4c1f-845b-a4f26a02fdad"
      },
      "outputs": [
        {
          "output_type": "stream",
          "name": "stdout",
          "text": [
            "+----------------------+\n",
            "|sum(water_consumption)|\n",
            "+----------------------+\n",
            "|                   285|\n",
            "+----------------------+\n",
            "\n"
          ]
        }
      ],
      "source": [
        "## Wasserverbrauch anzeigen:    Jeremy möchte wissen, wie der gesamte Wasserverbrauch im letzten Jahr war.\n",
        "\n",
        "df_fru_veg.agg(pysparkFunctions.sum(\"water_consumption\")).show()"
      ]
    },
    {
      "cell_type": "code",
      "execution_count": 17,
      "metadata": {
        "colab": {
          "base_uri": "https://localhost:8080/"
        },
        "id": "seDYaTXtF98y",
        "outputId": "260cd464-63ec-446e-8427-146a218d536e"
      },
      "outputs": [
        {
          "output_type": "stream",
          "name": "stdout",
          "text": [
            "+----------------------+\n",
            "|sum(water_consumption)|\n",
            "+----------------------+\n",
            "|                   160|\n",
            "+----------------------+\n",
            "\n"
          ]
        }
      ],
      "source": [
        "## Wasserverbrauch pro Pfanzenart anzeigen: Jeremy möchte noch wissen, wie der Wasserverbrauch für die unterschiedlichen Gewächsarten ist.\n",
        "\n",
        "df_fru_veg.filter(df_fru_veg.crop == \"strawberries\").agg(pysparkFunctions.sum(\"water_consumption\")).show()"
      ]
    },
    {
      "cell_type": "code",
      "execution_count": 28,
      "metadata": {
        "colab": {
          "base_uri": "https://localhost:8080/"
        },
        "id": "3KHSkBaFF98z",
        "outputId": "30f45ac7-9a0e-45d2-bc1f-1f058b7c21f3"
      },
      "outputs": [
        {
          "output_type": "stream",
          "name": "stdout",
          "text": [
            "[(0, 'strawberries', 7, 5, 14, 0, 5), (1, 'strawberries', 7, 7, 20, 60, 25), (2, 'strawberries', 7, 9, 24, 150, 25), (3, 'strawberries', 7, 2, 10, 0, 0), (4, 'strawberries', 7, 6, 18, 30, 10), (5, 'strawberries', 7, 8, 26, 150, 25), (6, 'strawberries', 7, 3, 12, 0, 0), (7, 'strawberries', 7, 10, 10, 100, 25), (8, 'strawberries', 7, 4, 14, 0, 0), (9, 'strawberries', 7, 1, 12, 0, 0), (10, 'zucchini', 5, 0, 7, 5, 5), (11, 'zucchini', 5, 0, 6, 1, 0), (12, 'zucchini', 5, 50, 12, 9, 25), (13, 'zucchini', 5, 0, 6, 3, 0), (14, 'zucchini', 5, 0, 5, 2, 0), (15, 'radish', 6, 0, 4, 1, 0), (16, 'zucchini', 5, 50, 13, 8, 25), (17, 'radish', 6, 60, 8, 8, 240), (18, 'radish', 6, 0, 6, 5, 0), (19, 'radish', 6, 0, 3, 4, 0), (20, 'radish', 6, 0, 4, 2, 0), (21, 'zucchini', 5, 50, 5, 10, 25), (22, 'zucchini', 5, 10, 9, 6, 10), (23, 'zucchini', 5, 20, 10, 7, 25), (24, 'radish', 6, 40, 8, 7, 160), (25, 'radish', 6, 0, 7, 1, 0), (26, 'zucchini', 5, 0, 7, 4, 0), (27, 'radish', 6, 0, 5, 3, 0)]\n"
          ]
        }
      ],
      "source": [
        "## Daten speichern: Um langfristig auf die Daten zurückgreifen zu können, speichern wird jetzt noch die Rohdaten in einer Datenbank.\n",
        "\n",
        "connection = sqlite3.connect('result.sqlite')\n",
        "\n",
        "df_raw_data = df_fru.union(df_veg).drop_duplicates().dropna()\n",
        "df_raw_data.toPandas().to_sql('water_consumption', connection, if_exists='replace', index=True)\n",
        "\n",
        "print(connection.execute('SELECT * FROM water_consumption;').fetchall())\n",
        "\n",
        "connection.close()\n"
      ]
    },
    {
      "cell_type": "markdown",
      "metadata": {
        "id": "1NnaidAVF980"
      },
      "source": [
        "**Übungen**\n",
        "\n",
        "1. Dieses Notebook enthält noch eine weitere JSON Datei namens `Corn.json` mit Daten zu Gedreide. Werte den Wasserverbrauch nur für das Gedreide aus.\n",
        "2. Ermittle wie viel Wasser pro Feld eingesetzt wurde.\n",
        "3. Ermittle den gesamten Wasserverbrauch für alle Pfanzen."
      ]
    }
  ],
  "metadata": {
    "colab": {
      "collapsed_sections": [],
      "name": "Übungsaufgaben.ipynb",
      "provenance": [],
      "include_colab_link": true
    },
    "kernelspec": {
      "display_name": "Python 3 (ipykernel)",
      "language": "python",
      "name": "python3"
    },
    "language_info": {
      "codemirror_mode": {
        "name": "ipython",
        "version": 3
      },
      "file_extension": ".py",
      "mimetype": "text/x-python",
      "name": "python",
      "nbconvert_exporter": "python",
      "pygments_lexer": "ipython3",
      "version": "3.9.12"
    }
  },
  "nbformat": 4,
  "nbformat_minor": 0
}